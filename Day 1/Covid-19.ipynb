{
 "cells": [
  {
   "cell_type": "markdown",
   "metadata": {},
   "source": [
    "# Satvik Atmakuri\n",
    "# 3B6\n",
    "# 121810306028"
   ]
  },
  {
   "cell_type": "code",
   "execution_count": 1,
   "metadata": {},
   "outputs": [],
   "source": [
    "import pandas as pd"
   ]
  },
  {
   "cell_type": "code",
   "execution_count": 5,
   "metadata": {},
   "outputs": [],
   "source": [
    "#importing data\n",
    "data=pd.read_excel(\"Problem 1 Dataset.xlsx\")"
   ]
  },
  {
   "cell_type": "code",
   "execution_count": 6,
   "metadata": {},
   "outputs": [
    {
     "data": {
      "text/html": [
       "<div>\n",
       "<style scoped>\n",
       "    .dataframe tbody tr th:only-of-type {\n",
       "        vertical-align: middle;\n",
       "    }\n",
       "\n",
       "    .dataframe tbody tr th {\n",
       "        vertical-align: top;\n",
       "    }\n",
       "\n",
       "    .dataframe thead th {\n",
       "        text-align: right;\n",
       "    }\n",
       "</style>\n",
       "<table border=\"1\" class=\"dataframe\">\n",
       "  <thead>\n",
       "    <tr style=\"text-align: right;\">\n",
       "      <th></th>\n",
       "      <th>Unnamed: 0</th>\n",
       "      <th>Date</th>\n",
       "      <th>State</th>\n",
       "      <th>Confirmed</th>\n",
       "      <th>Deceased</th>\n",
       "      <th>Recovered</th>\n",
       "      <th>State_Name</th>\n",
       "    </tr>\n",
       "  </thead>\n",
       "  <tbody>\n",
       "    <tr>\n",
       "      <th>0</th>\n",
       "      <td>0</td>\n",
       "      <td>2020-04-01</td>\n",
       "      <td>AN</td>\n",
       "      <td>0</td>\n",
       "      <td>0</td>\n",
       "      <td>0</td>\n",
       "      <td>Andaman and Nicobar Islands</td>\n",
       "    </tr>\n",
       "    <tr>\n",
       "      <th>1</th>\n",
       "      <td>1</td>\n",
       "      <td>2020-04-01</td>\n",
       "      <td>AP</td>\n",
       "      <td>67</td>\n",
       "      <td>0</td>\n",
       "      <td>1</td>\n",
       "      <td>Andhra Pradesh</td>\n",
       "    </tr>\n",
       "    <tr>\n",
       "      <th>2</th>\n",
       "      <td>2</td>\n",
       "      <td>2020-04-01</td>\n",
       "      <td>AR</td>\n",
       "      <td>0</td>\n",
       "      <td>0</td>\n",
       "      <td>0</td>\n",
       "      <td>Arunachal Pradesh</td>\n",
       "    </tr>\n",
       "    <tr>\n",
       "      <th>3</th>\n",
       "      <td>3</td>\n",
       "      <td>2020-04-01</td>\n",
       "      <td>AS</td>\n",
       "      <td>15</td>\n",
       "      <td>0</td>\n",
       "      <td>0</td>\n",
       "      <td>Assam</td>\n",
       "    </tr>\n",
       "    <tr>\n",
       "      <th>4</th>\n",
       "      <td>4</td>\n",
       "      <td>2020-04-01</td>\n",
       "      <td>BR</td>\n",
       "      <td>3</td>\n",
       "      <td>0</td>\n",
       "      <td>0</td>\n",
       "      <td>Bihar</td>\n",
       "    </tr>\n",
       "  </tbody>\n",
       "</table>\n",
       "</div>"
      ],
      "text/plain": [
       "   Unnamed: 0       Date State  Confirmed  Deceased  Recovered  \\\n",
       "0           0 2020-04-01    AN          0         0          0   \n",
       "1           1 2020-04-01    AP         67         0          1   \n",
       "2           2 2020-04-01    AR          0         0          0   \n",
       "3           3 2020-04-01    AS         15         0          0   \n",
       "4           4 2020-04-01    BR          3         0          0   \n",
       "\n",
       "                    State_Name  \n",
       "0  Andaman and Nicobar Islands  \n",
       "1               Andhra Pradesh  \n",
       "2            Arunachal Pradesh  \n",
       "3                        Assam  \n",
       "4                        Bihar  "
      ]
     },
     "execution_count": 6,
     "metadata": {},
     "output_type": "execute_result"
    }
   ],
   "source": [
    "data.head()"
   ]
  },
  {
   "cell_type": "code",
   "execution_count": 9,
   "metadata": {},
   "outputs": [],
   "source": [
    "#dropping useless columns\n",
    "data.drop(['Unnamed: 0'],1,inplace=True)"
   ]
  },
  {
   "cell_type": "code",
   "execution_count": 10,
   "metadata": {},
   "outputs": [
    {
     "data": {
      "text/html": [
       "<div>\n",
       "<style scoped>\n",
       "    .dataframe tbody tr th:only-of-type {\n",
       "        vertical-align: middle;\n",
       "    }\n",
       "\n",
       "    .dataframe tbody tr th {\n",
       "        vertical-align: top;\n",
       "    }\n",
       "\n",
       "    .dataframe thead th {\n",
       "        text-align: right;\n",
       "    }\n",
       "</style>\n",
       "<table border=\"1\" class=\"dataframe\">\n",
       "  <thead>\n",
       "    <tr style=\"text-align: right;\">\n",
       "      <th></th>\n",
       "      <th>Date</th>\n",
       "      <th>State</th>\n",
       "      <th>Confirmed</th>\n",
       "      <th>Deceased</th>\n",
       "      <th>Recovered</th>\n",
       "      <th>State_Name</th>\n",
       "    </tr>\n",
       "  </thead>\n",
       "  <tbody>\n",
       "    <tr>\n",
       "      <th>0</th>\n",
       "      <td>2020-04-01</td>\n",
       "      <td>AN</td>\n",
       "      <td>0</td>\n",
       "      <td>0</td>\n",
       "      <td>0</td>\n",
       "      <td>Andaman and Nicobar Islands</td>\n",
       "    </tr>\n",
       "    <tr>\n",
       "      <th>1</th>\n",
       "      <td>2020-04-01</td>\n",
       "      <td>AP</td>\n",
       "      <td>67</td>\n",
       "      <td>0</td>\n",
       "      <td>1</td>\n",
       "      <td>Andhra Pradesh</td>\n",
       "    </tr>\n",
       "    <tr>\n",
       "      <th>2</th>\n",
       "      <td>2020-04-01</td>\n",
       "      <td>AR</td>\n",
       "      <td>0</td>\n",
       "      <td>0</td>\n",
       "      <td>0</td>\n",
       "      <td>Arunachal Pradesh</td>\n",
       "    </tr>\n",
       "    <tr>\n",
       "      <th>3</th>\n",
       "      <td>2020-04-01</td>\n",
       "      <td>AS</td>\n",
       "      <td>15</td>\n",
       "      <td>0</td>\n",
       "      <td>0</td>\n",
       "      <td>Assam</td>\n",
       "    </tr>\n",
       "    <tr>\n",
       "      <th>4</th>\n",
       "      <td>2020-04-01</td>\n",
       "      <td>BR</td>\n",
       "      <td>3</td>\n",
       "      <td>0</td>\n",
       "      <td>0</td>\n",
       "      <td>Bihar</td>\n",
       "    </tr>\n",
       "    <tr>\n",
       "      <th>...</th>\n",
       "      <td>...</td>\n",
       "      <td>...</td>\n",
       "      <td>...</td>\n",
       "      <td>...</td>\n",
       "      <td>...</td>\n",
       "      <td>...</td>\n",
       "    </tr>\n",
       "    <tr>\n",
       "      <th>5689</th>\n",
       "      <td>2020-05-31</td>\n",
       "      <td>TT</td>\n",
       "      <td>8789</td>\n",
       "      <td>222</td>\n",
       "      <td>4928</td>\n",
       "      <td>Total</td>\n",
       "    </tr>\n",
       "    <tr>\n",
       "      <th>5690</th>\n",
       "      <td>2020-05-31</td>\n",
       "      <td>UN</td>\n",
       "      <td>448</td>\n",
       "      <td>0</td>\n",
       "      <td>0</td>\n",
       "      <td>State Unassigned</td>\n",
       "    </tr>\n",
       "    <tr>\n",
       "      <th>5691</th>\n",
       "      <td>2020-05-31</td>\n",
       "      <td>UP</td>\n",
       "      <td>374</td>\n",
       "      <td>4</td>\n",
       "      <td>192</td>\n",
       "      <td>Uttar Pradesh</td>\n",
       "    </tr>\n",
       "    <tr>\n",
       "      <th>5692</th>\n",
       "      <td>2020-05-31</td>\n",
       "      <td>UT</td>\n",
       "      <td>158</td>\n",
       "      <td>0</td>\n",
       "      <td>0</td>\n",
       "      <td>Uttarakhand</td>\n",
       "    </tr>\n",
       "    <tr>\n",
       "      <th>5693</th>\n",
       "      <td>2020-05-31</td>\n",
       "      <td>WB</td>\n",
       "      <td>371</td>\n",
       "      <td>8</td>\n",
       "      <td>187</td>\n",
       "      <td>West Bengal</td>\n",
       "    </tr>\n",
       "  </tbody>\n",
       "</table>\n",
       "<p>5694 rows × 6 columns</p>\n",
       "</div>"
      ],
      "text/plain": [
       "           Date State  Confirmed  Deceased  Recovered  \\\n",
       "0    2020-04-01    AN          0         0          0   \n",
       "1    2020-04-01    AP         67         0          1   \n",
       "2    2020-04-01    AR          0         0          0   \n",
       "3    2020-04-01    AS         15         0          0   \n",
       "4    2020-04-01    BR          3         0          0   \n",
       "...         ...   ...        ...       ...        ...   \n",
       "5689 2020-05-31    TT       8789       222       4928   \n",
       "5690 2020-05-31    UN        448         0          0   \n",
       "5691 2020-05-31    UP        374         4        192   \n",
       "5692 2020-05-31    UT        158         0          0   \n",
       "5693 2020-05-31    WB        371         8        187   \n",
       "\n",
       "                       State_Name  \n",
       "0     Andaman and Nicobar Islands  \n",
       "1                  Andhra Pradesh  \n",
       "2               Arunachal Pradesh  \n",
       "3                           Assam  \n",
       "4                           Bihar  \n",
       "...                           ...  \n",
       "5689                        Total  \n",
       "5690             State Unassigned  \n",
       "5691                Uttar Pradesh  \n",
       "5692                  Uttarakhand  \n",
       "5693                  West Bengal  \n",
       "\n",
       "[5694 rows x 6 columns]"
      ]
     },
     "execution_count": 10,
     "metadata": {},
     "output_type": "execute_result"
    }
   ],
   "source": [
    "data"
   ]
  },
  {
   "cell_type": "code",
   "execution_count": 11,
   "metadata": {},
   "outputs": [],
   "source": [
    "#droping rows with state value TT\n",
    "data=data.loc[(data['State']!='TT')]"
   ]
  },
  {
   "cell_type": "code",
   "execution_count": 12,
   "metadata": {},
   "outputs": [
    {
     "data": {
      "text/html": [
       "<div>\n",
       "<style scoped>\n",
       "    .dataframe tbody tr th:only-of-type {\n",
       "        vertical-align: middle;\n",
       "    }\n",
       "\n",
       "    .dataframe tbody tr th {\n",
       "        vertical-align: top;\n",
       "    }\n",
       "\n",
       "    .dataframe thead th {\n",
       "        text-align: right;\n",
       "    }\n",
       "</style>\n",
       "<table border=\"1\" class=\"dataframe\">\n",
       "  <thead>\n",
       "    <tr style=\"text-align: right;\">\n",
       "      <th></th>\n",
       "      <th>Date</th>\n",
       "      <th>State</th>\n",
       "      <th>Confirmed</th>\n",
       "      <th>Deceased</th>\n",
       "      <th>Recovered</th>\n",
       "      <th>State_Name</th>\n",
       "    </tr>\n",
       "  </thead>\n",
       "  <tbody>\n",
       "    <tr>\n",
       "      <th>0</th>\n",
       "      <td>2020-04-01</td>\n",
       "      <td>AN</td>\n",
       "      <td>0</td>\n",
       "      <td>0</td>\n",
       "      <td>0</td>\n",
       "      <td>Andaman and Nicobar Islands</td>\n",
       "    </tr>\n",
       "    <tr>\n",
       "      <th>1</th>\n",
       "      <td>2020-04-01</td>\n",
       "      <td>AP</td>\n",
       "      <td>67</td>\n",
       "      <td>0</td>\n",
       "      <td>1</td>\n",
       "      <td>Andhra Pradesh</td>\n",
       "    </tr>\n",
       "    <tr>\n",
       "      <th>2</th>\n",
       "      <td>2020-04-01</td>\n",
       "      <td>AR</td>\n",
       "      <td>0</td>\n",
       "      <td>0</td>\n",
       "      <td>0</td>\n",
       "      <td>Arunachal Pradesh</td>\n",
       "    </tr>\n",
       "    <tr>\n",
       "      <th>3</th>\n",
       "      <td>2020-04-01</td>\n",
       "      <td>AS</td>\n",
       "      <td>15</td>\n",
       "      <td>0</td>\n",
       "      <td>0</td>\n",
       "      <td>Assam</td>\n",
       "    </tr>\n",
       "    <tr>\n",
       "      <th>4</th>\n",
       "      <td>2020-04-01</td>\n",
       "      <td>BR</td>\n",
       "      <td>3</td>\n",
       "      <td>0</td>\n",
       "      <td>0</td>\n",
       "      <td>Bihar</td>\n",
       "    </tr>\n",
       "    <tr>\n",
       "      <th>...</th>\n",
       "      <td>...</td>\n",
       "      <td>...</td>\n",
       "      <td>...</td>\n",
       "      <td>...</td>\n",
       "      <td>...</td>\n",
       "      <td>...</td>\n",
       "    </tr>\n",
       "    <tr>\n",
       "      <th>5688</th>\n",
       "      <td>2020-05-31</td>\n",
       "      <td>TR</td>\n",
       "      <td>45</td>\n",
       "      <td>0</td>\n",
       "      <td>1</td>\n",
       "      <td>Tripura</td>\n",
       "    </tr>\n",
       "    <tr>\n",
       "      <th>5690</th>\n",
       "      <td>2020-05-31</td>\n",
       "      <td>UN</td>\n",
       "      <td>448</td>\n",
       "      <td>0</td>\n",
       "      <td>0</td>\n",
       "      <td>State Unassigned</td>\n",
       "    </tr>\n",
       "    <tr>\n",
       "      <th>5691</th>\n",
       "      <td>2020-05-31</td>\n",
       "      <td>UP</td>\n",
       "      <td>374</td>\n",
       "      <td>4</td>\n",
       "      <td>192</td>\n",
       "      <td>Uttar Pradesh</td>\n",
       "    </tr>\n",
       "    <tr>\n",
       "      <th>5692</th>\n",
       "      <td>2020-05-31</td>\n",
       "      <td>UT</td>\n",
       "      <td>158</td>\n",
       "      <td>0</td>\n",
       "      <td>0</td>\n",
       "      <td>Uttarakhand</td>\n",
       "    </tr>\n",
       "    <tr>\n",
       "      <th>5693</th>\n",
       "      <td>2020-05-31</td>\n",
       "      <td>WB</td>\n",
       "      <td>371</td>\n",
       "      <td>8</td>\n",
       "      <td>187</td>\n",
       "      <td>West Bengal</td>\n",
       "    </tr>\n",
       "  </tbody>\n",
       "</table>\n",
       "<p>5548 rows × 6 columns</p>\n",
       "</div>"
      ],
      "text/plain": [
       "           Date State  Confirmed  Deceased  Recovered  \\\n",
       "0    2020-04-01    AN          0         0          0   \n",
       "1    2020-04-01    AP         67         0          1   \n",
       "2    2020-04-01    AR          0         0          0   \n",
       "3    2020-04-01    AS         15         0          0   \n",
       "4    2020-04-01    BR          3         0          0   \n",
       "...         ...   ...        ...       ...        ...   \n",
       "5688 2020-05-31    TR         45         0          1   \n",
       "5690 2020-05-31    UN        448         0          0   \n",
       "5691 2020-05-31    UP        374         4        192   \n",
       "5692 2020-05-31    UT        158         0          0   \n",
       "5693 2020-05-31    WB        371         8        187   \n",
       "\n",
       "                       State_Name  \n",
       "0     Andaman and Nicobar Islands  \n",
       "1                  Andhra Pradesh  \n",
       "2               Arunachal Pradesh  \n",
       "3                           Assam  \n",
       "4                           Bihar  \n",
       "...                           ...  \n",
       "5688                      Tripura  \n",
       "5690             State Unassigned  \n",
       "5691                Uttar Pradesh  \n",
       "5692                  Uttarakhand  \n",
       "5693                  West Bengal  \n",
       "\n",
       "[5548 rows x 6 columns]"
      ]
     },
     "execution_count": 12,
     "metadata": {},
     "output_type": "execute_result"
    }
   ],
   "source": [
    "data"
   ]
  },
  {
   "cell_type": "code",
   "execution_count": 14,
   "metadata": {},
   "outputs": [
    {
     "data": {
      "text/plain": [
       "146"
      ]
     },
     "execution_count": 14,
     "metadata": {},
     "output_type": "execute_result"
    }
   ],
   "source": [
    "#finding out distinct number of dates in the given dataset\n",
    "n=len(pd.unique(data['Date']))\n",
    "n"
   ]
  },
  {
   "cell_type": "code",
   "execution_count": 16,
   "metadata": {},
   "outputs": [
    {
     "data": {
      "text/plain": [
       "38"
      ]
     },
     "execution_count": 16,
     "metadata": {},
     "output_type": "execute_result"
    }
   ],
   "source": [
    "#finding out distinct number of states in the given dataset\n",
    "n2=len(pd.unique(data['State_Name']))\n",
    "n2"
   ]
  },
  {
   "cell_type": "code",
   "execution_count": 46,
   "metadata": {},
   "outputs": [
    {
     "data": {
      "text/plain": [
       "0       AN\n",
       "1       AP\n",
       "2       AR\n",
       "3       AS\n",
       "4       BR\n",
       "        ..\n",
       "5688    TR\n",
       "5690    UN\n",
       "5691    UP\n",
       "5692    UT\n",
       "5693    WB\n",
       "Name: State, Length: 5548, dtype: object"
      ]
     },
     "execution_count": 46,
     "metadata": {},
     "output_type": "execute_result"
    }
   ],
   "source": [
    "states=data['State']\n",
    "states"
   ]
  },
  {
   "cell_type": "code",
   "execution_count": 52,
   "metadata": {},
   "outputs": [],
   "source": [
    "#calculatig total number of Confirmed Recovered Deceased cases wrt to states\n",
    "df=data.groupby([\"State\"]).agg({\"Confirmed\":\"sum\",\"Recovered\":\"sum\",\"Deceased\":\"sum\"})"
   ]
  },
  {
   "cell_type": "code",
   "execution_count": 53,
   "metadata": {},
   "outputs": [
    {
     "data": {
      "text/html": [
       "<div>\n",
       "<style scoped>\n",
       "    .dataframe tbody tr th:only-of-type {\n",
       "        vertical-align: middle;\n",
       "    }\n",
       "\n",
       "    .dataframe tbody tr th {\n",
       "        vertical-align: top;\n",
       "    }\n",
       "\n",
       "    .dataframe thead th {\n",
       "        text-align: right;\n",
       "    }\n",
       "</style>\n",
       "<table border=\"1\" class=\"dataframe\">\n",
       "  <thead>\n",
       "    <tr style=\"text-align: right;\">\n",
       "      <th></th>\n",
       "      <th>Confirmed</th>\n",
       "      <th>Recovered</th>\n",
       "      <th>Deceased</th>\n",
       "    </tr>\n",
       "    <tr>\n",
       "      <th>State</th>\n",
       "      <th></th>\n",
       "      <th></th>\n",
       "      <th></th>\n",
       "    </tr>\n",
       "  </thead>\n",
       "  <tbody>\n",
       "    <tr>\n",
       "      <th>AN</th>\n",
       "      <td>1119</td>\n",
       "      <td>346</td>\n",
       "      <td>16</td>\n",
       "    </tr>\n",
       "    <tr>\n",
       "      <th>AP</th>\n",
       "      <td>196789</td>\n",
       "      <td>112870</td>\n",
       "      <td>1753</td>\n",
       "    </tr>\n",
       "    <tr>\n",
       "      <th>AR</th>\n",
       "      <td>1948</td>\n",
       "      <td>1245</td>\n",
       "      <td>3</td>\n",
       "    </tr>\n",
       "    <tr>\n",
       "      <th>AS</th>\n",
       "      <td>52716</td>\n",
       "      <td>37225</td>\n",
       "      <td>130</td>\n",
       "    </tr>\n",
       "    <tr>\n",
       "      <th>BR</th>\n",
       "      <td>68148</td>\n",
       "      <td>43820</td>\n",
       "      <td>388</td>\n",
       "    </tr>\n",
       "  </tbody>\n",
       "</table>\n",
       "</div>"
      ],
      "text/plain": [
       "       Confirmed  Recovered  Deceased\n",
       "State                                \n",
       "AN          1119        346        16\n",
       "AP        196789     112870      1753\n",
       "AR          1948       1245         3\n",
       "AS         52716      37225       130\n",
       "BR         68148      43820       388"
      ]
     },
     "execution_count": 53,
     "metadata": {},
     "output_type": "execute_result"
    }
   ],
   "source": [
    "df.head()"
   ]
  },
  {
   "cell_type": "code",
   "execution_count": 54,
   "metadata": {},
   "outputs": [],
   "source": [
    "#finding out death rate\n",
    "df['death_rate']=(df['Deceased']/df['Confirmed'])*100"
   ]
  },
  {
   "cell_type": "code",
   "execution_count": 55,
   "metadata": {},
   "outputs": [
    {
     "data": {
      "text/plain": [
       "State\n",
       "AN    1.429848\n",
       "AP    0.890802\n",
       "AR    0.154004\n",
       "AS    0.246604\n",
       "BR    0.569349\n",
       "CH    1.507159\n",
       "CT    0.698730\n",
       "DD         NaN\n",
       "DL    2.867923\n",
       "DN    0.141143\n",
       "GA    0.866824\n",
       "GJ    3.809117\n",
       "HP    0.426649\n",
       "HR    1.167206\n",
       "JH    0.920284\n",
       "JK    1.858958\n",
       "KA    1.835025\n",
       "KL    0.321850\n",
       "LA    0.438871\n",
       "LD         NaN\n",
       "MH    3.499736\n",
       "ML    0.505051\n",
       "MN    0.248679\n",
       "MP    2.589979\n",
       "MZ    0.000000\n",
       "NL    0.232558\n",
       "OR    0.687673\n",
       "PB    2.474750\n",
       "PY    1.514168\n",
       "RJ    1.545024\n",
       "SK    0.118765\n",
       "TG    0.806297\n",
       "TN    1.626461\n",
       "TR    0.540070\n",
       "UN         NaN\n",
       "UP    1.760053\n",
       "UT    1.182883\n",
       "WB    2.192406\n",
       "Name: death_rate, dtype: float64"
      ]
     },
     "execution_count": 55,
     "metadata": {},
     "output_type": "execute_result"
    }
   ],
   "source": [
    "df['death_rate']"
   ]
  },
  {
   "cell_type": "code",
   "execution_count": 56,
   "metadata": {},
   "outputs": [
    {
     "data": {
      "text/plain": [
       "State\n",
       "AN    30.920465\n",
       "AP    57.355848\n",
       "AR    63.911704\n",
       "AS    70.614235\n",
       "BR    64.301227\n",
       "CH    58.553127\n",
       "CT    73.393829\n",
       "DD          NaN\n",
       "DL    89.820605\n",
       "DN    70.359915\n",
       "GA    71.618072\n",
       "GJ    74.358142\n",
       "HP    61.240564\n",
       "HR    83.179999\n",
       "JH    41.850724\n",
       "JK    66.973651\n",
       "KA    50.729839\n",
       "KL    60.205590\n",
       "LA    73.793103\n",
       "LD          NaN\n",
       "MH    65.941819\n",
       "ML    34.848485\n",
       "MN    59.216661\n",
       "MP    73.575101\n",
       "MZ    53.531599\n",
       "NL    31.744186\n",
       "OR    66.036299\n",
       "PB    65.382222\n",
       "PY    60.739779\n",
       "RJ    71.701772\n",
       "SK    42.042755\n",
       "TG    71.325120\n",
       "TN    78.496472\n",
       "TR    66.080139\n",
       "UN          NaN\n",
       "UP    58.180850\n",
       "UT    62.936333\n",
       "WB    70.340272\n",
       "Name: cure_rate, dtype: float64"
      ]
     },
     "execution_count": 56,
     "metadata": {},
     "output_type": "execute_result"
    }
   ],
   "source": [
    "#finding out cure rate\n",
    "df['cure_rate']=(df['Recovered']/df['Confirmed'])*100\n",
    "df['cure_rate']"
   ]
  },
  {
   "cell_type": "code",
   "execution_count": 66,
   "metadata": {},
   "outputs": [
    {
     "name": "stderr",
     "output_type": "stream",
     "text": [
      "No handles with labels found to put in legend.\n"
     ]
    },
    {
     "data": {
      "text/plain": [
       "<matplotlib.legend.Legend at 0x1d72da4ca90>"
      ]
     },
     "execution_count": 66,
     "metadata": {},
     "output_type": "execute_result"
    },
    {
     "data": {
      "image/png": "[encoded data removed]",
      "text/plain": [
       "<Figure size 1080x432 with 1 Axes>"
      ]
     },
     "metadata": {
      "needs_background": "light"
     },
     "output_type": "display_data"
    }
   ],
   "source": [
    "#ploting death rate and cure rate wrt states\n",
    "import matplotlib.pyplot as plt\n",
    "plt.figure(figsize=(15,6))\n",
    "plt.plot(data['State'].unique(),df['death_rate'])\n",
    "plt.plot(data['State'].unique(),df['cure_rate'])\n",
    "plt.title('death rate and cure rate across each state')\n",
    "plt.xlabel('state name')\n",
    "plt.ylabel('rate')\n",
    "plt.legend()"
   ]
  },
  {
   "cell_type": "code",
   "execution_count": 70,
   "metadata": {},
   "outputs": [
    {
     "name": "stderr",
     "output_type": "stream",
     "text": [
      "No handles with labels found to put in legend.\n"
     ]
    },
    {
     "data": {
      "text/plain": [
       "<matplotlib.legend.Legend at 0x1d72e22b640>"
      ]
     },
     "execution_count": 70,
     "metadata": {},
     "output_type": "execute_result"
    },
    {
     "data": {
      "image/png": "[encoded data removed]",
      "text/plain": [
       "<Figure size 1080x432 with 1 Axes>"
      ]
     },
     "metadata": {
      "needs_background": "light"
     },
     "output_type": "display_data"
    }
   ],
   "source": [
    "#confirmed cases in each state\n",
    "plt.figure(figsize=(15,6))\n",
    "plt.bar(data['State'].unique(),df['Confirmed'])\n",
    "plt.title('confirmed cases in each state')\n",
    "plt.xlabel('state name')\n",
    "plt.ylabel('Confirmed cases')\n",
    "plt.legend()"
   ]
  },
  {
   "cell_type": "code",
   "execution_count": 71,
   "metadata": {},
   "outputs": [
    {
     "name": "stderr",
     "output_type": "stream",
     "text": [
      "No handles with labels found to put in legend.\n"
     ]
    },
    {
     "data": {
      "text/plain": [
       "<matplotlib.legend.Legend at 0x1d72dc1a7c0>"
      ]
     },
     "execution_count": 71,
     "metadata": {},
     "output_type": "execute_result"
    },
    {
     "data": {
      "image/png": "[encoded data removed]",
      "text/plain": [
       "<Figure size 1080x432 with 1 Axes>"
      ]
     },
     "metadata": {
      "needs_background": "light"
     },
     "output_type": "display_data"
    }
   ],
   "source": [
    "#Recovered cases in each state\n",
    "plt.figure(figsize=(15,6))\n",
    "plt.bar(data['State'].unique(),df['Recovered'])\n",
    "plt.title('Recovered cases in each state')\n",
    "plt.xlabel('state name')\n",
    "plt.ylabel('Recovered cases')\n",
    "plt.legend()"
   ]
  },
  {
   "cell_type": "code",
   "execution_count": 72,
   "metadata": {},
   "outputs": [
    {
     "name": "stderr",
     "output_type": "stream",
     "text": [
      "No handles with labels found to put in legend.\n"
     ]
    },
    {
     "data": {
      "text/plain": [
       "<matplotlib.legend.Legend at 0x1d72d7755e0>"
      ]
     },
     "execution_count": 72,
     "metadata": {},
     "output_type": "execute_result"
    },
    {
     "data": {
      "image/png": "[encoded data removed]",
      "text/plain": [
       "<Figure size 1080x432 with 1 Axes>"
      ]
     },
     "metadata": {
      "needs_background": "light"
     },
     "output_type": "display_data"
    }
   ],
   "source": [
    "#Deceased cases in each state\n",
    "plt.figure(figsize=(15,6))\n",
    "plt.bar(data['State'].unique(),df['Deceased'])\n",
    "plt.title('Deceased cases in each state')\n",
    "plt.xlabel('state name')\n",
    "plt.ylabel('Deceased cases')\n",
    "plt.legend()"
   ]
  },
  {
   "cell_type": "code",
   "execution_count": 87,
   "metadata": {},
   "outputs": [
    {
     "name": "stdout",
     "output_type": "stream",
     "text": [
      "State\n",
      "MH    479779\n",
      "TN    273969\n",
      "AP    196789\n",
      "KA    158254\n",
      "DL    141531\n",
      "UP    108974\n",
      "WB     86754\n",
      "TG     73050\n",
      "BR     68148\n",
      "GJ     67811\n",
      "Name: Confirmed, dtype: int64\n"
     ]
    },
    {
     "data": {
      "text/plain": [
       "['MH', 'TN', 'AP', 'KA', 'DL', 'UP', 'WB', 'TG', 'BR', 'GJ']"
      ]
     },
     "execution_count": 87,
     "metadata": {},
     "output_type": "execute_result"
    }
   ],
   "source": [
    "#top 10 states with highest number of Confirmed cases\n",
    "top10_cases=df.sort_values('Confirmed', ascending=False)\n",
    "print(top10_cases['Confirmed'].head(10))\n",
    "top10=top10_cases.head(10)\n",
    "index = top10.index\n",
    "sta = list(index)\n",
    "sta"
   ]
  },
  {
   "cell_type": "code",
   "execution_count": 88,
   "metadata": {},
   "outputs": [
    {
     "name": "stdout",
     "output_type": "stream",
     "text": [
      "State\n",
      "MH    316375\n",
      "TN    215056\n",
      "DL    127124\n",
      "AP    112870\n",
      "KA     80282\n",
      "UP     63402\n",
      "WB     61023\n",
      "TG     52103\n",
      "GJ     50423\n",
      "BR     43820\n",
      "Name: Recovered, dtype: int64\n"
     ]
    },
    {
     "data": {
      "text/plain": [
       "['MH', 'TN', 'DL', 'AP', 'KA', 'UP', 'WB', 'TG', 'GJ', 'BR']"
      ]
     },
     "execution_count": 88,
     "metadata": {},
     "output_type": "execute_result"
    }
   ],
   "source": [
    "#top 10 states with highest number of Recovered cases\n",
    "top10_cases=df.sort_values('Recovered', ascending=False)\n",
    "print(top10_cases['Recovered'].head(10))\n",
    "top10=top10_cases.head(10)\n",
    "index = top10.index\n",
    "sta = list(index)\n",
    "sta"
   ]
  },
  {
   "cell_type": "code",
   "execution_count": 89,
   "metadata": {},
   "outputs": [],
   "source": [
    "#calculatig total number of Confirmed Recovered Deceased cases wrt to dates\n",
    "df2=data.groupby([\"Date\"]).agg({\"Confirmed\":\"sum\",\"Recovered\":\"sum\",\"Deceased\":\"sum\"})"
   ]
  },
  {
   "cell_type": "code",
   "execution_count": 90,
   "metadata": {},
   "outputs": [
    {
     "data": {
      "text/html": [
       "<div>\n",
       "<style scoped>\n",
       "    .dataframe tbody tr th:only-of-type {\n",
       "        vertical-align: middle;\n",
       "    }\n",
       "\n",
       "    .dataframe tbody tr th {\n",
       "        vertical-align: top;\n",
       "    }\n",
       "\n",
       "    .dataframe thead th {\n",
       "        text-align: right;\n",
       "    }\n",
       "</style>\n",
       "<table border=\"1\" class=\"dataframe\">\n",
       "  <thead>\n",
       "    <tr style=\"text-align: right;\">\n",
       "      <th></th>\n",
       "      <th>Confirmed</th>\n",
       "      <th>Recovered</th>\n",
       "      <th>Deceased</th>\n",
       "    </tr>\n",
       "    <tr>\n",
       "      <th>Date</th>\n",
       "      <th></th>\n",
       "      <th></th>\n",
       "      <th></th>\n",
       "    </tr>\n",
       "  </thead>\n",
       "  <tbody>\n",
       "    <tr>\n",
       "      <th>2020-03-14</th>\n",
       "      <td>81</td>\n",
       "      <td>9</td>\n",
       "      <td>2</td>\n",
       "    </tr>\n",
       "    <tr>\n",
       "      <th>2020-03-15</th>\n",
       "      <td>27</td>\n",
       "      <td>4</td>\n",
       "      <td>0</td>\n",
       "    </tr>\n",
       "    <tr>\n",
       "      <th>2020-03-16</th>\n",
       "      <td>15</td>\n",
       "      <td>1</td>\n",
       "      <td>0</td>\n",
       "    </tr>\n",
       "    <tr>\n",
       "      <th>2020-03-17</th>\n",
       "      <td>11</td>\n",
       "      <td>1</td>\n",
       "      <td>1</td>\n",
       "    </tr>\n",
       "    <tr>\n",
       "      <th>2020-03-18</th>\n",
       "      <td>37</td>\n",
       "      <td>0</td>\n",
       "      <td>0</td>\n",
       "    </tr>\n",
       "    <tr>\n",
       "      <th>...</th>\n",
       "      <td>...</td>\n",
       "      <td>...</td>\n",
       "      <td>...</td>\n",
       "    </tr>\n",
       "    <tr>\n",
       "      <th>2020-08-02</th>\n",
       "      <td>52672</td>\n",
       "      <td>40355</td>\n",
       "      <td>760</td>\n",
       "    </tr>\n",
       "    <tr>\n",
       "      <th>2020-08-03</th>\n",
       "      <td>50488</td>\n",
       "      <td>43070</td>\n",
       "      <td>806</td>\n",
       "    </tr>\n",
       "    <tr>\n",
       "      <th>2020-08-04</th>\n",
       "      <td>51282</td>\n",
       "      <td>51220</td>\n",
       "      <td>849</td>\n",
       "    </tr>\n",
       "    <tr>\n",
       "      <th>2020-08-05</th>\n",
       "      <td>51387</td>\n",
       "      <td>39552</td>\n",
       "      <td>804</td>\n",
       "    </tr>\n",
       "    <tr>\n",
       "      <th>2020-08-06</th>\n",
       "      <td>62170</td>\n",
       "      <td>50141</td>\n",
       "      <td>899</td>\n",
       "    </tr>\n",
       "  </tbody>\n",
       "</table>\n",
       "<p>146 rows × 3 columns</p>\n",
       "</div>"
      ],
      "text/plain": [
       "            Confirmed  Recovered  Deceased\n",
       "Date                                      \n",
       "2020-03-14         81          9         2\n",
       "2020-03-15         27          4         0\n",
       "2020-03-16         15          1         0\n",
       "2020-03-17         11          1         1\n",
       "2020-03-18         37          0         0\n",
       "...               ...        ...       ...\n",
       "2020-08-02      52672      40355       760\n",
       "2020-08-03      50488      43070       806\n",
       "2020-08-04      51282      51220       849\n",
       "2020-08-05      51387      39552       804\n",
       "2020-08-06      62170      50141       899\n",
       "\n",
       "[146 rows x 3 columns]"
      ]
     },
     "execution_count": 90,
     "metadata": {},
     "output_type": "execute_result"
    }
   ],
   "source": [
    "df2"
   ]
  },
  {
   "cell_type": "code",
   "execution_count": 93,
   "metadata": {},
   "outputs": [],
   "source": [
    "df2.reset_index(level=0, inplace=True)"
   ]
  },
  {
   "cell_type": "code",
   "execution_count": 94,
   "metadata": {},
   "outputs": [
    {
     "data": {
      "text/html": [
       "<div>\n",
       "<style scoped>\n",
       "    .dataframe tbody tr th:only-of-type {\n",
       "        vertical-align: middle;\n",
       "    }\n",
       "\n",
       "    .dataframe tbody tr th {\n",
       "        vertical-align: top;\n",
       "    }\n",
       "\n",
       "    .dataframe thead th {\n",
       "        text-align: right;\n",
       "    }\n",
       "</style>\n",
       "<table border=\"1\" class=\"dataframe\">\n",
       "  <thead>\n",
       "    <tr style=\"text-align: right;\">\n",
       "      <th></th>\n",
       "      <th>Date</th>\n",
       "      <th>Confirmed</th>\n",
       "      <th>Recovered</th>\n",
       "      <th>Deceased</th>\n",
       "    </tr>\n",
       "  </thead>\n",
       "  <tbody>\n",
       "    <tr>\n",
       "      <th>0</th>\n",
       "      <td>2020-03-14</td>\n",
       "      <td>81</td>\n",
       "      <td>9</td>\n",
       "      <td>2</td>\n",
       "    </tr>\n",
       "    <tr>\n",
       "      <th>1</th>\n",
       "      <td>2020-03-15</td>\n",
       "      <td>27</td>\n",
       "      <td>4</td>\n",
       "      <td>0</td>\n",
       "    </tr>\n",
       "    <tr>\n",
       "      <th>2</th>\n",
       "      <td>2020-03-16</td>\n",
       "      <td>15</td>\n",
       "      <td>1</td>\n",
       "      <td>0</td>\n",
       "    </tr>\n",
       "    <tr>\n",
       "      <th>3</th>\n",
       "      <td>2020-03-17</td>\n",
       "      <td>11</td>\n",
       "      <td>1</td>\n",
       "      <td>1</td>\n",
       "    </tr>\n",
       "    <tr>\n",
       "      <th>4</th>\n",
       "      <td>2020-03-18</td>\n",
       "      <td>37</td>\n",
       "      <td>0</td>\n",
       "      <td>0</td>\n",
       "    </tr>\n",
       "    <tr>\n",
       "      <th>...</th>\n",
       "      <td>...</td>\n",
       "      <td>...</td>\n",
       "      <td>...</td>\n",
       "      <td>...</td>\n",
       "    </tr>\n",
       "    <tr>\n",
       "      <th>141</th>\n",
       "      <td>2020-08-02</td>\n",
       "      <td>52672</td>\n",
       "      <td>40355</td>\n",
       "      <td>760</td>\n",
       "    </tr>\n",
       "    <tr>\n",
       "      <th>142</th>\n",
       "      <td>2020-08-03</td>\n",
       "      <td>50488</td>\n",
       "      <td>43070</td>\n",
       "      <td>806</td>\n",
       "    </tr>\n",
       "    <tr>\n",
       "      <th>143</th>\n",
       "      <td>2020-08-04</td>\n",
       "      <td>51282</td>\n",
       "      <td>51220</td>\n",
       "      <td>849</td>\n",
       "    </tr>\n",
       "    <tr>\n",
       "      <th>144</th>\n",
       "      <td>2020-08-05</td>\n",
       "      <td>51387</td>\n",
       "      <td>39552</td>\n",
       "      <td>804</td>\n",
       "    </tr>\n",
       "    <tr>\n",
       "      <th>145</th>\n",
       "      <td>2020-08-06</td>\n",
       "      <td>62170</td>\n",
       "      <td>50141</td>\n",
       "      <td>899</td>\n",
       "    </tr>\n",
       "  </tbody>\n",
       "</table>\n",
       "<p>146 rows × 4 columns</p>\n",
       "</div>"
      ],
      "text/plain": [
       "          Date  Confirmed  Recovered  Deceased\n",
       "0   2020-03-14         81          9         2\n",
       "1   2020-03-15         27          4         0\n",
       "2   2020-03-16         15          1         0\n",
       "3   2020-03-17         11          1         1\n",
       "4   2020-03-18         37          0         0\n",
       "..         ...        ...        ...       ...\n",
       "141 2020-08-02      52672      40355       760\n",
       "142 2020-08-03      50488      43070       806\n",
       "143 2020-08-04      51282      51220       849\n",
       "144 2020-08-05      51387      39552       804\n",
       "145 2020-08-06      62170      50141       899\n",
       "\n",
       "[146 rows x 4 columns]"
      ]
     },
     "execution_count": 94,
     "metadata": {},
     "output_type": "execute_result"
    }
   ],
   "source": [
    "df2"
   ]
  },
  {
   "cell_type": "code",
   "execution_count": 97,
   "metadata": {},
   "outputs": [
    {
     "name": "stderr",
     "output_type": "stream",
     "text": [
      "No handles with labels found to put in legend.\n"
     ]
    },
    {
     "data": {
      "text/plain": [
       "<matplotlib.legend.Legend at 0x1d72efc6670>"
      ]
     },
     "execution_count": 97,
     "metadata": {},
     "output_type": "execute_result"
    },
    {
     "data": {
      "image/png": "[encoded data removed]",
      "text/plain": [
       "<Figure size 1080x432 with 1 Axes>"
      ]
     },
     "metadata": {
      "needs_background": "light"
     },
     "output_type": "display_data"
    }
   ],
   "source": [
    "#confirmed cases on a particular date\n",
    "plt.figure(figsize=(15,6))\n",
    "plt.bar(df2['Date'],df2['Confirmed'])\n",
    "plt.title('confirmed cases on particular date')\n",
    "plt.xlabel('date')\n",
    "plt.ylabel('Confirmed cases')\n",
    "plt.legend()"
   ]
  },
  {
   "cell_type": "code",
   "execution_count": 99,
   "metadata": {},
   "outputs": [
    {
     "name": "stderr",
     "output_type": "stream",
     "text": [
      "No handles with labels found to put in legend.\n"
     ]
    },
    {
     "data": {
      "text/plain": [
       "<matplotlib.legend.Legend at 0x1d730600eb0>"
      ]
     },
     "execution_count": 99,
     "metadata": {},
     "output_type": "execute_result"
    },
    {
     "data": {
      "image/png": "[encoded data removed]",
      "text/plain": [
       "<Figure size 1080x432 with 1 Axes>"
      ]
     },
     "metadata": {
      "needs_background": "light"
     },
     "output_type": "display_data"
    }
   ],
   "source": [
    "#Recovered cases on a particular date\n",
    "plt.figure(figsize=(15,6))\n",
    "plt.bar(df2['Date'],df2['Recovered'])\n",
    "plt.title('Recovered cases on particular date')\n",
    "plt.xlabel('date')\n",
    "plt.ylabel('Recovered cases')\n",
    "plt.legend()"
   ]
  },
  {
   "cell_type": "code",
   "execution_count": 101,
   "metadata": {},
   "outputs": [
    {
     "name": "stderr",
     "output_type": "stream",
     "text": [
      "No handles with labels found to put in legend.\n"
     ]
    },
    {
     "data": {
      "text/plain": [
       "<matplotlib.legend.Legend at 0x1d730d91040>"
      ]
     },
     "execution_count": 101,
     "metadata": {},
     "output_type": "execute_result"
    },
    {
     "data": {
      "image/png": "[encoded data removed]",
      "text/plain": [
       "<Figure size 1080x432 with 1 Axes>"
      ]
     },
     "metadata": {
      "needs_background": "light"
     },
     "output_type": "display_data"
    }
   ],
   "source": [
    "#Deceased cases on a particular date\n",
    "plt.figure(figsize=(15,6))\n",
    "plt.bar(df2['Date'],df2['Deceased'])\n",
    "plt.title('Deceased cases on particular date')\n",
    "plt.xlabel('date')\n",
    "plt.ylabel('Deceased cases')\n",
    "plt.legend()"
   ]
  },
  {
   "cell_type": "code",
   "execution_count": 102,
   "metadata": {},
   "outputs": [
    {
     "name": "stderr",
     "output_type": "stream",
     "text": [
      "No handles with labels found to put in legend.\n"
     ]
    },
    {
     "data": {
      "text/plain": [
       "<matplotlib.legend.Legend at 0x1d72ed2a9a0>"
      ]
     },
     "execution_count": 102,
     "metadata": {},
     "output_type": "execute_result"
    },
    {
     "data": {
      "image/png": "[encoded data removed]",
      "text/plain": [
       "<Figure size 1080x432 with 1 Axes>"
      ]
     },
     "metadata": {
      "needs_background": "light"
     },
     "output_type": "display_data"
    }
   ],
   "source": [
    "#fatality ratio across India on a daily basis\n",
    "df2['fatality ratio']=(df2['Deceased']/df2['Confirmed'])*100\n",
    "plt.figure(figsize=(15,6))\n",
    "plt.plot(df2['Date'],df2['fatality ratio'])\n",
    "plt.title('fatality ratio across India on a daily basis')\n",
    "plt.xlabel('date')\n",
    "plt.ylabel('fatality ratio')\n",
    "plt.legend()"
   ]
  },
  {
   "cell_type": "code",
   "execution_count": 106,
   "metadata": {},
   "outputs": [
    {
     "name": "stdout",
     "output_type": "stream",
     "text": [
      "total number of onfirmed cases: 2020081\n",
      "total number of Recovered cases: 1371244\n",
      "total number of Deceased cases: 41538\n"
     ]
    }
   ],
   "source": [
    "#total number of confirmed cases, death cases and recovered cases in India\n",
    "total_Confirmed=df2['Confirmed'].sum()\n",
    "total_Recovered=df2['Recovered'].sum()\n",
    "total_Deceased=df2['Deceased'].sum()\n",
    "print('total number of onfirmed cases:',total_Confirmed)\n",
    "print('total number of Recovered cases:',total_Recovered)\n",
    "print('total number of Deceased cases:',total_Deceased)"
   ]
  },
  {
   "cell_type": "code",
   "execution_count": null,
   "metadata": {},
   "outputs": [],
   "source": []
  }
 ],
 "metadata": {
  "kernelspec": {
   "display_name": "Python 3",
   "language": "python",
   "name": "python3"
  },
  "language_info": {
   "codemirror_mode": {
    "name": "ipython",
    "version": 3
   },
   "file_extension": ".py",
   "mimetype": "text/x-python",
   "name": "python",
   "nbconvert_exporter": "python",
   "pygments_lexer": "ipython3",
   "version": "3.8.5"
  }
 },
 "nbformat": 4,
 "nbformat_minor": 4
}
